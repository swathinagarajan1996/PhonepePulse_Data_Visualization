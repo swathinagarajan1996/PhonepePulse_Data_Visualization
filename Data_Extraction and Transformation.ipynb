## Importing Libraries:

import pandas as pd
import sqlite3 as sql
import streamlit as st
import plotly.express as px
import os
import json
from PIL import Image

# Clone the Phonepe Pulse repository
#subprocess.run(["git", "clone", "https://github.com/PhonePe/pulse.git"])

## Data transformation
## Dataframe of aggregated Transactions

path1='C:/Users/admin/pulse/data/aggregated/transaction/country/india/state/'

Agg_Trans_list=os.listdir(path1)#os.listdir=list the folder in the dir
Agg_Trans_list


columns1 = {'State': [], 'Year': [], 'Quarter': [], 'Transaction_Type': [], 'Transaction_Count': [],
            'Transaction_Amount': []}

for state in Agg_Trans_list:
    cur_state=path1+state+'/'
    #print(cur_state)
    Agg_yr_list=os.listdir(cur_state)
    
    for year in Agg_yr_list:
        cur_year= cur_state+year+'/' 
        Agg_file_list=os.listdir(cur_year)
        #print(cur_year)
        
        for file in Agg_file_list:
            cur_file=cur_year+file
            Data=open(cur_file,'r')
            toload_Data=json.load(Data)
            #print(toload_Data)
            
            for z in toload_Data['data']['transactionData']:
                Name=z['name']
                count=z['paymentInstruments'][0]['count']
                amount=z['paymentInstruments'][0]['amount']
                
                columns1['Transaction_Type'].append(Name)
                columns1['Transaction_Count'].append(count)
                columns1['Transaction_Amount'].append(amount)
                columns1['State'].append(state)
                columns1['Year'].append(year)
                columns1['Quarter'].append(int(file.strip('.json')))
                
Agg_Trans_Table1=pd.DataFrame(columns1)
Agg_Trans_Table1

## Dataframe of aggregrated user
path2='C:/Users/admin/pulse/data/aggregated/user/country/india/state/'
Agg_user_list=os.listdir(path2)
Agg_user_list

columns2={'State':[],'Year':[],'Quarter':[],'Brand_Type':[],'Transaction_Count':[],'Transaction_Percentage':[]}

for state in Agg_user_list:
    cur_state=path2+state+'/'
    Agg_yr_list=os.listdir(cur_state)
    
    for year in Agg_yr_list:
        cur_yr=cur_state+year+'/'
        Agg_file_list=os.listdir(cur_yr)
        
        for file in Agg_file_list:
            cur_file=cur_yr+file
            Data1=open(cur_file,'r')
            toload_data1=json.load(Data1)
            #print(toload_data1)
            if toload_data1['data']["usersByDevice"] is not None:
                for z in toload_data1['data']["usersByDevice"]:
                    Name=z['brand']
                    count=z['count']
                    percentage=z['percentage']

                    columns2['Brand_Type'].append(Name)
                    columns2['Transaction_Count'].append(count)
                    columns2['Transaction_Percentage'].append(percentage)
                    columns2['State'].append(state)
                    columns2['Year'].append(year)

                    columns2['Quarter'].append(file.strip('.json'))

                
                
Aggr_User_Label2=pd.DataFrame(columns2)
Aggr_User_Label2

## Dataframe of  map transcation
path3='C:/Users/admin/pulse/data/map/transaction/hover/country/india/state/'
map_Trans_list=os.listdir(path3)
map_Trans_list

columns3={'State':[],'Year':[],'Quarter':[],'District':[],'District_Count':[],'District_Amount':[]}

for state in map_Trans_list:
    cur_state=path3+state+'/'
    map_yr_list=os.listdir(cur_state)
    #print(map_yr)
    for year in map_yr_list:
        cur_yr=cur_state+year+'/'
        map_file_list=os.listdir(cur_yr)
        #print(m_j)
        for file in map_file_list:
            cur_file=cur_yr+file
            Data2=open(cur_file,'r')
            toload_data2=json.load(Data2)
            
            for z in toload_data2['data']['hoverDataList']:
                Name=z['name']
                count=z['metric'][0]['count']
                amount=z['metric'][0]['amount']
                
                columns3['District'].append(Name)
                columns3['District_Count'].append(count)
                columns3['District_Amount'].append(amount)
                columns3['State'].append(state)
                columns3['Year'].append(year)
                columns3['Quarter'].append(file.strip('.json'))

Map_Trans_Label3=pd.DataFrame(columns3)
Map_Trans_Label3

## Dataframe of  map users
path4='C:/Users/admin/pulse/data/map/user/hover/country/india/state/'
map_users_list=os.listdir(path4)
map_users_list


columns4={'State':[],'Year':[],'Quarter':[],'District':[],'No_of_Regusers':[],'No_of_AppOpen':[]}

for state in map_users_list:
    cur_state=path4+state+'/'
    Map_Yr_list=os.listdir(cur_state)
    
    for year in Map_Yr_list:
        cur_yr=cur_state+year+'/'
        Map_file_list=os.listdir(cur_yr)
        
        for file in Map_file_list:
            cur_file=cur_yr+file
            Data3=open(cur_file,'r')
            toload_data3=json.load(Data3)
            
            for z in toload_data3['data']['hoverData'].items():
                Name=z[0] 
                users_count=z[1]['registeredUsers']
                app_count=z[1]['appOpens']
                   
                columns4['District'].append(Name)
                columns4['No_of_Regusers'].append(users_count)
                columns4['No_of_AppOpen'].append(app_count)
                columns4['State'].append(state)
                columns4['Year'].append(year)
                columns4['Quarter'].append(file.strip('.json'))

Map_Users_Label4=pd.DataFrame(columns4)
Map_Users_Label4

## Dataframe of  top transcation
path5=('C:/Users/admin/pulse/data/top/transaction/country/india/state/')
top_Trans_list=os.listdir(path5)
top_Trans_list


columns5={'State':[],'Year':[],'Quarter':[],'Pincodes':[],'Transcation_Count':[],'Transcation_Amount':[]}

for state in top_Trans_list:
    cur_state=path5+state+'/'
    top_yr_list=os.listdir(cur_state)
    
    for year in top_yr_list:
        cur_yr=cur_state+year+'/'
        top_file_list=os.listdir(cur_yr)
        
        for file in top_file_list:
            cur_file=cur_yr+file
            Data_toptrans=open(cur_file,'r')
            toload_data_top=json.load(Data_toptrans)
            
            for z in toload_data_top['data']['pincodes']:
                Name=z['entityName']
                count=z['metric']['count']
                amount=z['metric']['amount']
            
                columns5['Pincodes'].append(Name)
                columns5['Transcation_Count'].append(count)
                columns5['Transcation_Amount'].append(amount)
                columns5['State'].append(state)
                columns5['Year'].append(year)
                columns5['Quarter'].append(int(file.strip('.json')))
            
top_trans_Label5=pd.DataFrame(columns5)
top_trans_Label5

## Dataframe of  top users
path6=('C:/Users/admin/pulse/data/top/user/country/india/state/')
top_users_list=os.listdir(path6)
top_users_list


columns6={'State':[],'Year':[],'Quarter':[],'Pincode':[],'No_of_Regusers':[]}

for state in top_users_list:
    cur_state=path6+state+'/'
    top_yr_list=os.listdir(cur_state)
    
    for year in top_yr_list:
        cur_yr=cur_state+year+'/'                     
        top_file_list=os.listdir(cur_yr)
        
        for file in top_file_list:
            cur_file=cur_yr+file
            Data_topusers=open(cur_file,'r')
            toload_data_top=json.load(Data_topusers)
            
            for z in toload_data_top['data']['pincodes']:
                Name=z['name']
                users_count=z['registeredUsers']
                
            
                columns6['Pincode'].append(Name)
                columns6['No_of_Regusers'].append(users_count)
                columns6['State'].append(state)
                columns6['Year'].append(year)
                columns6['Quarter'].append(int(file.strip('.json')))
            
top_users_Label6=pd.DataFrame(columns6)
top_users_Label6

Converting Dataframes to CSV files
Agg_Trans_Table1.to_csv('Agg_Trans_file.csv',index=False)
Aggr_User_Label2.to_csv('Agg_Users_file.csv',index=False)
Map_Trans_Label3.to_csv('Map_Trans_file.csv',index=False)
Map_Users_Label4.to_csv('Map_Users_file.csv',index=False)
top_users_Label6.to_csv('Top_users_file.csv',index=False)
top_trans_Label5.to_csv('Top_Trans_file.csv',index=False)

# Connecting with sqlite3
import sqlite3 as sql
conn=sql.connect('Pulse.db')
mycursor=conn.cursor()

# Creating Top_User table
create_Table6='''CREATE TABLE Top_User( State varchar(100), 
                 Year int,
                 Quarter int, 
                 Pincode int, 
                 No_of_Regusers int); '''
mycursor.execute(create_Table6)
# Inserting Values to Top_User table
for i,row in top_users_Label6.iterrows():
    mysql='INSERT INTO Top_User (State,Year,Quarter,Pincode,No_of_Regusers)VALUES (?,?,?,?,?)'
    val=(row['State'],row['Year'],row['Quarter'],row['Pincode'],row['No_of_Regusers'])
    mycursor.execute(mysql,val)
conn.commit()


# Creating Top_trans table
create_Table5='''CREATE TABLE Top_trans(State varchar(100), 
                 Year int,
                 Quarter int, 
                 Pincodes varchar(100), 
                 Transcation_Count int, 
                 Transcation_Amount double); '''
mycursor.execute(create_Table5)
# Inserting Values to Top_trans table
for i,row in top_trans_Label5.iterrows():  
    mysql='INSERT INTO Top_trans(State,Year,Quarter,Pincodes,Transcation_Count,Transcation_Amount)  VALUES (?,?,?,?,?,?)'
    val=(row['State'],row['Year'],row['Quarter'],row['Pincodes'],row['Transcation_Count'],row['Transcation_Amount'])
    mycursor.execute(mysql,val)
conn.commit()


# Creating Agg_Trans table
create_Table_Trans='''CREATE TABLE Agg_Trans (State varchar(100), 
                 Year int,
                 Quarter int, 
                 Transaction_Type varchar(100), 
                 Transaction_Count int, 
                 Transaction_Amount float);
                 '''
mycursor.execute(create_Table_Trans)
# Inserting Values to Agg_Trans table
for i,row in Agg_Trans_Table1.iterrows(): 
    mysql = "INSERT INTO Agg_Trans (State,Year,Quarter,Transaction_Type,Transaction_Count,Transaction_Amount)VALUES (?,?,?,?,?,?)"
    val=(row['State'],row['Year'],row['Quarter'],row['Transaction_Type'],row['Transaction_Count'],row['Transaction_Amount'])
    mycursor.execute(mysql,val)
conn.commit()

# Creating Agg_User table
Create_Table2='''CREATE TABLE Agg_User( State varchar(100), 
                 Year int,
                 Quarter int, 
                 Brand_Type varchar(100), 
                 Transaction_Count int, 
                 Transaction_Percentage Float);'''
mycursor.execute(Create_Table2)
# Inserting Values to Agg_User table
for i, row in Aggr_User_Label2.iterrows():
    mysql = "INSERT INTO Agg_User (State,Year,Quarter,Brand_Type,Transaction_Count,Transaction_Percentage) VALUES (?,?,?,?,?,?)"
    val=(row['State'],row['Year'],row['Quarter'],row['Brand_Type'],row['Transaction_Count'],row['Transaction_Percentage'])
    mycursor.execute(mysql,val)
conn.commit()


# Creating Map_Tran table
create_Table3='''CREATE TABLE Map_Tran(State varchar(100), 
                 Year int,
                 Quarter int, 
                 District varchar(100), 
                 District_Count int, 
                 District_Amount double);'''
mycursor.execute(create_Table3)
# Inserting Values to Map_Tran table
for i,row in Map_Trans_Label3.iterrows():
    mysql="INSERT INTO Map_Tran (State,Year,Quarter,District,District_Count,District_Amount) VALUES (?,?,?,?,?,?)"
    val=(row['State'],row['Year'],row['Quarter'],row['District'],row['District_Count'],row['District_Amount'])
    mycursor.execute(mysql,val)
conn.commit()

# Creating Map_Users table
create_Table4='''CREATE TABLE Map_Users(State varchar(100), 
                 Year int,
                 Quarter int, 
                 District varchar(100), 
                 No_of_Regusers int, 
                 No_of_AppOpen int); '''
mycursor.execute(create_Table4)
# Inserting Values to Map_Users table
for i,row in Map_Users_Label4.iterrows():
    mysql='INSERT INTO Map_Users (State,Year,Quarter,District,No_of_Regusers,No_of_AppOpen)VALUES (?,?,?,?,?,?)'
    val=(row['State'],row['Year'],row['Quarter'],row['District'],row['No_of_Regusers'],row['No_of_AppOpen'])
    mycursor.execute(mysql,val)
    #mycursor.execute(mysql,tuple(row))
conn.commit()

#List of tables
mycursor.execute('select * from sqlite_master where type="table" ')
mycursor.fetchall()
